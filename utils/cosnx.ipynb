{
 "cells": [
  {
   "cell_type": "code",
   "execution_count": 29,
   "metadata": {},
   "outputs": [],
   "source": [
    "import torch as th\n",
    "import numpy as np"
   ]
  },
  {
   "cell_type": "code",
   "execution_count": 26,
   "metadata": {},
   "outputs": [],
   "source": [
    "def cosnx(n,theta):\n",
    "    x = np.cos(theta)\n",
    "    Ta = 1 # T_0=cos(0*theta)\n",
    "    Tb = x  # # T_1=cos(1*theta)\n",
    "    for i in range(2, n+1):\n",
    "        Tc = 2*x*Tb - Ta\n",
    "        Ta = Tb\n",
    "        Tb = Tc\n",
    "    return Tb"
   ]
  },
  {
   "cell_type": "code",
   "execution_count": 38,
   "metadata": {},
   "outputs": [
    {
     "data": {
      "text/plain": [
       "(-0.4481275125255435, -0.44812751321749233, -0.44812750816345215)"
      ]
     },
     "execution_count": 38,
     "metadata": {},
     "output_type": "execute_result"
    }
   ],
   "source": [
    "# Test\n",
    "N = 30000; theta=0.5\n",
    "cosnx(N, theta), np.cos(N*theta), th.cos(th.tensor(N*theta)).item()\n",
    "\n",
    "N = 40000; theta=0.8\n",
    "cosnx(N, theta), np.cos(N*theta), th.cos(th.tensor(N*theta)).item()\n",
    "\n",
    "N = 80000; theta=0.1\n",
    "cosnx(N, theta), np.cos(N*theta), th.cos(th.tensor(N*theta)).item()\n",
    "\n",
    "N = 80000; theta=0.01\n",
    "cosnx(N, theta), np.cos(N*theta), th.cos(th.tensor(N*theta)).item()"
   ]
  },
  {
   "cell_type": "code",
   "execution_count": 34,
   "metadata": {},
   "outputs": [],
   "source": [
    "def sinnx(n,theta):\n",
    "    x = np.cos(theta)\n",
    "    x_ = np.sin(theta)\n",
    "    Ta = 1 # U_0\n",
    "    Tb = 2*x  # # U_1\n",
    "    for i in range(2, n):\n",
    "        Tc = 2*x*Tb - Ta\n",
    "        Ta = Tb\n",
    "        Tb = Tc\n",
    "    return Tb*x_"
   ]
  },
  {
   "cell_type": "code",
   "execution_count": 37,
   "metadata": {},
   "outputs": [
    {
     "data": {
      "text/plain": [
       "(0.9978430323713757, 0.9978430323623819, 0.9978430271148682)"
      ]
     },
     "execution_count": 37,
     "metadata": {},
     "output_type": "execute_result"
    }
   ],
   "source": [
    "# Test\n",
    "N = 30000; theta=0.5\n",
    "sinnx(N, theta), np.sin(N*theta), th.sin(th.tensor(N*theta)).item()\n",
    "\n",
    "N = 40000; theta=0.8\n",
    "sinnx(N, theta), np.sin(N*theta), th.sin(th.tensor(N*theta)).item()\n",
    "\n",
    "N = 80000; theta=0.1\n",
    "sinnx(N, theta), np.sin(N*theta), th.sin(th.tensor(N*theta)).item()"
   ]
  }
 ],
 "metadata": {
  "kernelspec": {
   "display_name": "base",
   "language": "python",
   "name": "python3"
  },
  "language_info": {
   "codemirror_mode": {
    "name": "ipython",
    "version": 3
   },
   "file_extension": ".py",
   "mimetype": "text/x-python",
   "name": "python",
   "nbconvert_exporter": "python",
   "pygments_lexer": "ipython3",
   "version": "3.9.5"
  }
 },
 "nbformat": 4,
 "nbformat_minor": 2
}
