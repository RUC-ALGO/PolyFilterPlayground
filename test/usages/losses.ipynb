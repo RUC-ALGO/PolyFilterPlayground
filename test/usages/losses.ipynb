{
 "cells": [
  {
   "cell_type": "code",
   "execution_count": 3,
   "metadata": {},
   "outputs": [],
   "source": [
    "import torch\n",
    "import torch.nn as nn\n",
    "import torch.nn.functional as F"
   ]
  },
  {
   "cell_type": "code",
   "execution_count": 7,
   "metadata": {},
   "outputs": [
    {
     "data": {
      "text/plain": [
       "tensor([[ 0.2332, -0.5394],\n",
       "        [ 0.4342, -0.4918],\n",
       "        [-1.0302, -0.7983],\n",
       "        [ 1.0262, -1.2463],\n",
       "        [ 1.0912, -0.0777],\n",
       "        [-0.9625, -1.4372],\n",
       "        [-0.8451, -0.3024],\n",
       "        [ 1.0881, -0.9237],\n",
       "        [-0.5808,  1.2503],\n",
       "        [ 1.6646,  0.6226]])"
      ]
     },
     "execution_count": 7,
     "metadata": {},
     "output_type": "execute_result"
    }
   ],
   "source": [
    "batch_size, n_classes = 10, 2\n",
    "x = torch.randn(batch_size, n_classes)\n",
    "x"
   ]
  },
  {
   "cell_type": "code",
   "execution_count": 8,
   "metadata": {},
   "outputs": [
    {
     "data": {
      "text/plain": [
       "tensor([[1., 0.],\n",
       "        [1., 0.],\n",
       "        [1., 0.],\n",
       "        [0., 1.],\n",
       "        [0., 1.],\n",
       "        [0., 1.],\n",
       "        [1., 0.],\n",
       "        [1., 0.],\n",
       "        [1., 0.],\n",
       "        [0., 1.]])"
      ]
     },
     "execution_count": 8,
     "metadata": {},
     "output_type": "execute_result"
    }
   ],
   "source": [
    "target = torch.randint(n_classes, size=(batch_size,), dtype=torch.long)\n",
    "y = torch.zeros(batch_size, n_classes)\n",
    "y[range(y.shape[0]), target]=1\n",
    "y"
   ]
  },
  {
   "cell_type": "code",
   "execution_count": 9,
   "metadata": {},
   "outputs": [],
   "source": [
    "def sigmoid(x): return (1 + (-x).exp()).reciprocal()\n",
    "def binary_cross_entropy(pred, y): return -(pred.log()*y + (1-y)*(1-pred).log()).mean()"
   ]
  },
  {
   "cell_type": "code",
   "execution_count": 17,
   "metadata": {},
   "outputs": [],
   "source": [
    "def softmax(x): return F.normalize(x.exp().reciprocal(), p=1.0)"
   ]
  },
  {
   "cell_type": "code",
   "execution_count": 18,
   "metadata": {},
   "outputs": [
    {
     "data": {
      "text/plain": [
       "tensor([[0.3159, 0.6841],\n",
       "        [0.2837, 0.7163],\n",
       "        [0.5577, 0.4423],\n",
       "        [0.0934, 0.9066],\n",
       "        [0.2371, 0.7629],\n",
       "        [0.3835, 0.6165],\n",
       "        [0.6324, 0.3676],\n",
       "        [0.1180, 0.8820],\n",
       "        [0.8619, 0.1381],\n",
       "        [0.2608, 0.7392]])"
      ]
     },
     "execution_count": 18,
     "metadata": {},
     "output_type": "execute_result"
    }
   ],
   "source": [
    "softmax(x)"
   ]
  },
  {
   "cell_type": "code",
   "execution_count": 20,
   "metadata": {},
   "outputs": [
    {
     "data": {
      "text/plain": [
       "(tensor([[0.5580, 0.3683],\n",
       "         [0.6069, 0.3795],\n",
       "         [0.2631, 0.3104],\n",
       "         [0.7362, 0.2233],\n",
       "         [0.7486, 0.4806],\n",
       "         [0.2764, 0.1920],\n",
       "         [0.3005, 0.4250],\n",
       "         [0.7480, 0.2842],\n",
       "         [0.3587, 0.7774],\n",
       "         [0.8409, 0.6508]]),\n",
       " tensor([[0.4420, 0.6317],\n",
       "         [0.3931, 0.6205],\n",
       "         [0.7369, 0.6896],\n",
       "         [0.2638, 0.7767],\n",
       "         [0.2514, 0.5194],\n",
       "         [0.7236, 0.8080],\n",
       "         [0.6995, 0.5750],\n",
       "         [0.2520, 0.7158],\n",
       "         [0.6413, 0.2226],\n",
       "         [0.1591, 0.3492]]))"
      ]
     },
     "execution_count": 20,
     "metadata": {},
     "output_type": "execute_result"
    }
   ],
   "source": [
    "sigmoid(x), 1-sigmoid(x)"
   ]
  }
 ],
 "metadata": {
  "kernelspec": {
   "display_name": "base",
   "language": "python",
   "name": "python3"
  },
  "language_info": {
   "codemirror_mode": {
    "name": "ipython",
    "version": 3
   },
   "file_extension": ".py",
   "mimetype": "text/x-python",
   "name": "python",
   "nbconvert_exporter": "python",
   "pygments_lexer": "ipython3",
   "version": "3.9.5"
  }
 },
 "nbformat": 4,
 "nbformat_minor": 2
}
